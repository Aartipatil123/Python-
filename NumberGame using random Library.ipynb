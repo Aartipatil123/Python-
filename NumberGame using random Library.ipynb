{
 "cells": [
  {
   "cell_type": "code",
   "execution_count": 1,
   "id": "713701f5-a791-41d9-bcfd-19bce68ee58c",
   "metadata": {},
   "outputs": [
    {
     "name": "stdout",
     "output_type": "stream",
     "text": [
      "Random number: 38\n",
      "Random float: 0.45782765012811333\n",
      "Random choice: Power BI\n",
      "Shuffled list: ['Machine Learning', 'Python', 'Power BI', 'Data Science']\n",
      "Random numbers list: [18, 11, 34, 12, 48]\n"
     ]
    }
   ],
   "source": [
    "import random\n",
    "\n",
    "# Generate a random integer between 1 and 100\n",
    "random_number = random.randint(1, 100)\n",
    "print(f\"Random number: {random_number}\")\n",
    "\n",
    "# Generate a random float between 0 and 1\n",
    "random_float = random.random()\n",
    "print(f\"Random float: {random_float}\")\n",
    "\n",
    "# Select a random element from a list\n",
    "choices = [\"Python\", \"Machine Learning\", \"Power BI\", \"Data Science\"]\n",
    "random_choice = random.choice(choices)\n",
    "print(f\"Random choice: {random_choice}\")\n",
    "\n",
    "# Shuffle a list randomly\n",
    "random.shuffle(choices)\n",
    "print(f\"Shuffled list: {choices}\")\n",
    "\n",
    "# Generate a list of 5 random numbers between 1 and 50\n",
    "random_numbers_list = random.sample(range(1, 51), 5)\n",
    "print(f\"Random numbers list: {random_numbers_list}\")\n"
   ]
  },
  {
   "cell_type": "code",
   "execution_count": null,
   "id": "c733b830-ee84-4935-82ab-ca6e37c214f8",
   "metadata": {},
   "outputs": [],
   "source": []
  }
 ],
 "metadata": {
  "kernelspec": {
   "display_name": "Python 3 (ipykernel)",
   "language": "python",
   "name": "python3"
  },
  "language_info": {
   "codemirror_mode": {
    "name": "ipython",
    "version": 3
   },
   "file_extension": ".py",
   "mimetype": "text/x-python",
   "name": "python",
   "nbconvert_exporter": "python",
   "pygments_lexer": "ipython3",
   "version": "3.12.4"
  }
 },
 "nbformat": 4,
 "nbformat_minor": 5
}
